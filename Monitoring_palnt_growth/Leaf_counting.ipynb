{
 "cells": [
  {
   "cell_type": "code",
   "execution_count": 9,
   "id": "319dece8-c793-4cc2-b466-18a3fe84a7ac",
   "metadata": {},
   "outputs": [
    {
     "name": "stdout",
     "output_type": "stream",
     "text": [
      "Number of green leaves detected: 1\n",
      "12402.0\n"
     ]
    }
   ],
   "source": [
    "import cv2\n",
    "import numpy as np\n",
    "\n",
    "# Load and resize the image\n",
    "image = cv2.imread('15.jpg')\n",
    "image = cv2.resize(image, (500, 500))\n",
    "original = image.copy()\n",
    "\n",
    "# Convert image to HSV color space\n",
    "hsv = cv2.cvtColor(image, cv2.COLOR_BGR2HSV)\n",
    "\n",
    "# Define the range for green color (adjust these values as needed)\n",
    "lower_green = np.array([35, 40, 40])\n",
    "upper_green = np.array([85, 255, 255])\n",
    "\n",
    "# Create a mask for green areas\n",
    "green_mask = cv2.inRange(hsv, lower_green, upper_green)\n",
    "\n",
    "# Optional: Use morphological operations to clean the mask\n",
    "kernel = np.ones((3, 3), np.uint8)\n",
    "green_mask = cv2.morphologyEx(green_mask, cv2.MORPH_CLOSE, kernel)\n",
    "\n",
    "# Find contours for green areas (leaves)\n",
    "contours, _ = cv2.findContours(green_mask, cv2.RETR_EXTERNAL, cv2.CHAIN_APPROX_SIMPLE)\n",
    "\n",
    "# Filter contours based on size (to avoid noise)\n",
    "leaf_count = 0\n",
    "min_leaf_area = 50  # Adjust this threshold based on leaf size in the image\n",
    "for cnt in contours:\n",
    "    area = cv2.contourArea(cnt)\n",
    "    if area > min_leaf_area:\n",
    "        leaf_count += 1\n",
    "        cv2.drawContours(original, [cnt], -1, (0, 255, 0), 2)\n",
    "\n",
    "# Display the result\n",
    "print(f\"Number of green leaves detected: {leaf_count}\")\n",
    "print(area)\n",
    "cv2.putText(original, f'Green Leaves: {leaf_count}', (20, 50), cv2.FONT_HERSHEY_SIMPLEX, 1, (255, 0, 0), 2)\n",
    "cv2.imshow('Green Leaf Count', original)\n",
    "cv2.imshow('Green Mask',green_mask)\n",
    "cv2.waitKey(0)\n",
    "cv2.destroyAllWindows()\n"
   ]
  },
  {
   "cell_type": "code",
   "execution_count": null,
   "id": "b959e956-f869-43cd-b358-05b8a4039722",
   "metadata": {},
   "outputs": [
    {
     "name": "stdout",
     "output_type": "stream",
     "text": [
      "Leaf area: 5194.5\n",
      "Number of green leaves detected: 1\n"
     ]
    }
   ],
   "source": [
    "import cv2\n",
    "import numpy as np\n",
    "\n",
    "# Load and resize the image\n",
    "image = cv2.imread('15.jpg')\n",
    "image = cv2.resize(image, (500, 500))\n",
    "original = image.copy()\n",
    "\n",
    "# Convert image to HSV color space\n",
    "hsv = cv2.cvtColor(image, cv2.COLOR_BGR2HSV)\n",
    "\n",
    "# Define the range for green color (adjust these values as needed)\n",
    "lower_green = np.array([25, 40, 40])\n",
    "upper_green = np.array([125, 255, 255])\n",
    "\n",
    "# Create a mask for green areas\n",
    "green_mask = cv2.inRange(hsv, lower_green, upper_green)\n",
    "\n",
    "# Optional: Use morphological operations to clean the mask\n",
    "kernel = np.ones((3, 3), np.uint8)\n",
    "green_mask = cv2.morphologyEx(green_mask, cv2.MORPH_CLOSE, kernel)\n",
    "\n",
    "# Distance transform and thresholding to separate touching leaves\n",
    "dist_transform = cv2.distanceTransform(green_mask, cv2.DIST_L2, 5)\n",
    "ret, sure_fg = cv2.threshold(dist_transform, 0.4 * dist_transform.max(), 255, 0)  # Lowered threshold to detect smaller leaves\n",
    "\n",
    "# Convert to uint8 for contour detection\n",
    "sure_fg = np.uint8(sure_fg)\n",
    "\n",
    "# Find contours for green areas (leaves)\n",
    "contours, _ = cv2.findContours(sure_fg, cv2.RETR_EXTERNAL, cv2.CHAIN_APPROX_SIMPLE)\n",
    "\n",
    "# Filter contours based on size (adjusted for small leaves)\n",
    "leaf_count = 0\n",
    "min_leaf_area = 100  # Reduced minimum leaf area to count smaller leaves\n",
    "for cnt in contours:\n",
    "    area = cv2.contourArea(cnt)\n",
    "    if area > min_leaf_area:\n",
    "        leaf_count += 1\n",
    "        cv2.drawContours(original, [cnt], -1, (0, 255, 0), 2)\n",
    "        print(f\"Leaf area: {area}\")\n",
    "\n",
    "# Display the result\n",
    "print(f\"Number of green leaves detected: {leaf_count}\")\n",
    "cv2.putText(original, f'Green Leaves: {leaf_count}', (20, 50), cv2.FONT_HERSHEY_SIMPLEX, 1, (255, 0, 0), 2)\n",
    "cv2.imshow('Green Leaf Count', original)\n",
    "cv2.imshow('Green Mask', green_mask)\n",
    "cv2.imshow('Separated Leaves', sure_fg)\n",
    "cv2.waitKey(0)\n",
    "cv2.destroyAllWindows()"
   ]
  },
  {
   "cell_type": "code",
   "execution_count": null,
   "id": "d9a4a3f2-f0fa-49b4-a259-d4f94925fa2d",
   "metadata": {},
   "outputs": [],
   "source": []
  },
  {
   "cell_type": "code",
   "execution_count": null,
   "id": "93f1fcc6-0a58-4453-9035-2f8da1bd0688",
   "metadata": {},
   "outputs": [],
   "source": []
  }
 ],
 "metadata": {
  "kernelspec": {
   "display_name": "Python 3 (ipykernel)",
   "language": "python",
   "name": "python3"
  },
  "language_info": {
   "codemirror_mode": {
    "name": "ipython",
    "version": 3
   },
   "file_extension": ".py",
   "mimetype": "text/x-python",
   "name": "python",
   "nbconvert_exporter": "python",
   "pygments_lexer": "ipython3",
   "version": "3.8.20"
  }
 },
 "nbformat": 4,
 "nbformat_minor": 5
}
