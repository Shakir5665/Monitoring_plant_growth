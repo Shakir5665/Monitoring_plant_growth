{
 "cells": [
  {
   "cell_type": "code",
   "execution_count": 5,
   "id": "f3ad279f-9356-4376-80ff-7c14c86ab1e6",
   "metadata": {},
   "outputs": [
    {
     "name": "stdout",
     "output_type": "stream",
     "text": [
      "Total Yellow Spot Area: 0.00 pixels²\n"
     ]
    }
   ],
   "source": [
    "import cv2\n",
    "import numpy as np\n",
    "\n",
    "def detect_yellow_spots(image_path):\n",
    "    # Read the image\n",
    "    img = cv2.imread(image_path)\n",
    "    img = cv2.resize(img, (500, 500))\n",
    "    if img is None:\n",
    "        print(\"Error: Image not found or unable to load.\")\n",
    "        return None\n",
    "    \n",
    "    # Convert to HSV color space\n",
    "    hsv = cv2.cvtColor(img, cv2.COLOR_BGR2HSV)\n",
    "    \n",
    "    # Define HSV range for yellow spots\n",
    "    lower_yellow = np.array([20, 100, 100])  # Adjust for lighter yellow\n",
    "    upper_yellow = np.array([40, 255, 255])  # Covers brighter yellow\n",
    "    \n",
    "    # Create mask for yellow areas\n",
    "    mask = cv2.inRange(hsv, lower_yellow, upper_yellow)\n",
    "    \n",
    "    # Clean noise with morphological operations\n",
    "    kernel = np.ones((3, 3), np.uint8)\n",
    "    mask = cv2.morphologyEx(mask, cv2.MORPH_OPEN, kernel, iterations=2)\n",
    "    mask = cv2.morphologyEx(mask, cv2.MORPH_CLOSE, kernel, iterations=2)\n",
    "    \n",
    "    # Find contours of yellow spots\n",
    "    contours, _ = cv2.findContours(mask, cv2.RETR_EXTERNAL, cv2.CHAIN_APPROX_SIMPLE)\n",
    "    \n",
    "    # Calculate total area of yellow spots\n",
    "    yellow_spot_area = sum(cv2.contourArea(cnt) for cnt in contours)\n",
    "    print(f\"Total Yellow Spot Area: {yellow_spot_area:.2f} pixels²\")\n",
    "    \n",
    "    # Draw contours around yellow spots\n",
    "    result = img.copy()\n",
    "    cv2.drawContours(result, contours, -1, (0, 255, 255), 2)\n",
    "    \n",
    "    # Show the output\n",
    "    cv2.imshow(\"Yellow Spots Detected\", result)\n",
    "    cv2.imshow(\"Yellow Mask\", mask)\n",
    "    cv2.waitKey(0)\n",
    "    cv2.destroyAllWindows()\n",
    "    \n",
    "    return yellow_spot_area\n",
    "\n",
    "# Example usage\n",
    "image_path = 'a3.jpg'  # Update with your image path\n",
    "yellow_spot_area = detect_yellow_spots(image_path)\n"
   ]
  },
  {
   "cell_type": "code",
   "execution_count": null,
   "id": "c9bf5e18-d038-4b23-8d43-56a806bf4e09",
   "metadata": {},
   "outputs": [],
   "source": []
  }
 ],
 "metadata": {
  "kernelspec": {
   "display_name": "Python 3 (ipykernel)",
   "language": "python",
   "name": "python3"
  },
  "language_info": {
   "codemirror_mode": {
    "name": "ipython",
    "version": 3
   },
   "file_extension": ".py",
   "mimetype": "text/x-python",
   "name": "python",
   "nbconvert_exporter": "python",
   "pygments_lexer": "ipython3",
   "version": "3.8.20"
  }
 },
 "nbformat": 4,
 "nbformat_minor": 5
}
